{
 "cells": [
  {
   "cell_type": "raw",
   "metadata": {},
   "source": [
    "1. Buatlah sebuah program untuk menentukan bilangan genap dan bilangan ganjil"
   ]
  },
  {
   "cell_type": "code",
   "execution_count": 27,
   "metadata": {},
   "outputs": [
    {
     "name": "stdout",
     "output_type": "stream",
     "text": [
      "Ini adalah bilangan ganjil\n"
     ]
    }
   ],
   "source": [
    "def ganjilGenap(x):\n",
    "    \n",
    "    if x%2 == 0:\n",
    "        statement = print(\"Ini adalah bilangan genap\")\n",
    "    else:\n",
    "        statement = print(\"Ini adalah bilangan ganjil\")\n",
    "        \n",
    "    return statement\n",
    "\n",
    "ganjilGenap(5)"
   ]
  },
  {
   "cell_type": "raw",
   "metadata": {},
   "source": [
    "2. Buatlah sebuah program dengan sebuah fungsi yang dapat mengkonversikan angka bulan menjadi nama bulan."
   ]
  },
  {
   "cell_type": "code",
   "execution_count": 28,
   "metadata": {},
   "outputs": [
    {
     "name": "stdout",
     "output_type": "stream",
     "text": [
      "Masukkan angka bulan: 6\n",
      "Angka 6 adalah bulan Juni\n"
     ]
    }
   ],
   "source": [
    "def namaBulan():\n",
    "    \n",
    "    Bulan=[\"Januari\", \"Februari\",\"Maret\", \"April\", \"Mei\", \"Juni\", \"Juli\", \"Agustus\", \"September\", \"Oktober\", \"November\", \"Desember\"]\n",
    "    \n",
    "    x = int(input(\"Masukkan angka bulan: \"))\n",
    "    \n",
    "    if x>0 and x<12:\n",
    "        \n",
    "        temp = x-1\n",
    "        \n",
    "        print(\"Angka\", x, \"adalah bulan\", Bulan[temp])\n",
    "    \n",
    "    else:\n",
    "        print(\"\\nSalah angka!\")\n",
    "\n",
    "namaBulan()        \n",
    "  \n"
   ]
  },
  {
   "cell_type": "raw",
   "metadata": {},
   "source": [
    "3. Buatlah sebuah program utama yang digunakan untuk memutar 3 buah bilangan. \n",
    "\n",
    "   contoh : A = 2, B =1, C=3 di tukar menjadi A = 3, B = 2, C =1"
   ]
  },
  {
   "cell_type": "code",
   "execution_count": 29,
   "metadata": {},
   "outputs": [
    {
     "data": {
      "text/plain": [
       "(2, 3, 1)"
      ]
     },
     "execution_count": 29,
     "metadata": {},
     "output_type": "execute_result"
    }
   ],
   "source": [
    "'''\n",
    "\n",
    "Jawaban versi pertama menggunakan parameter\n",
    "\n",
    "'''\n",
    "\n",
    "def bilangan(a,b,c):\n",
    "    \n",
    "    \n",
    "    temp = a\n",
    "    a = b\n",
    "    b = c\n",
    "    c = temp\n",
    "\n",
    "    return a,b,c\n",
    "    \n",
    "bilangan(1,2,3)"
   ]
  },
  {
   "cell_type": "code",
   "execution_count": 30,
   "metadata": {},
   "outputs": [
    {
     "name": "stdout",
     "output_type": "stream",
     "text": [
      "Bilangan A : 1\n",
      "Bilangan B : 2\n",
      "Bilangan C : 3\n",
      "\n",
      "Bilangan A : 2\n",
      "Bilangan B : 3\n",
      "Bilangan C : 1\n"
     ]
    }
   ],
   "source": [
    "'''\n",
    "\n",
    "Jawaban versi kedua menggunakan input\n",
    "\n",
    "'''\n",
    "\n",
    "def bilangan():\n",
    "    \n",
    "    a = int(input(\"Bilangan A : \"))\n",
    "    b = int(input(\"Bilangan B : \"))\n",
    "    c = int(input(\"Bilangan C : \"))\n",
    "    \n",
    "    temp = a\n",
    "    a = b\n",
    "    b = c\n",
    "    c = temp\n",
    "    \n",
    "    print(\"\\nBilangan A :\", a)\n",
    "    print(\"Bilangan B :\", b)\n",
    "    print(\"Bilangan C :\", c)\n",
    "    \n",
    "bilangan()"
   ]
  }
 ],
 "metadata": {
  "kernelspec": {
   "display_name": "Python 3",
   "language": "python",
   "name": "python3"
  },
  "language_info": {
   "codemirror_mode": {
    "name": "ipython",
    "version": 3
   },
   "file_extension": ".py",
   "mimetype": "text/x-python",
   "name": "python",
   "nbconvert_exporter": "python",
   "pygments_lexer": "ipython3",
   "version": "3.9.0"
  }
 },
 "nbformat": 4,
 "nbformat_minor": 4
}
