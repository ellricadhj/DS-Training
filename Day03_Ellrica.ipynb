{
 "cells": [
  {
   "cell_type": "raw",
   "metadata": {},
   "source": [
    "Soal 1 \n",
    "\n",
    "Lengkapilah code untuk menampilkan perulangan berikut sesuai dengan expected result yang diharapkan !"
   ]
  },
  {
   "cell_type": "code",
   "execution_count": 1,
   "metadata": {},
   "outputs": [
    {
     "name": "stdout",
     "output_type": "stream",
     "text": [
      "s\n",
      "e\n",
      "m\n",
      "a\n",
      "n\n",
      "g\n",
      "k\n",
      "a\n"
     ]
    }
   ],
   "source": [
    "listSemangka = ['s','e','m','a','n','g','k','a']\n",
    "\n",
    "for x in listSemangka:\n",
    "  print(x)"
   ]
  },
  {
   "cell_type": "raw",
   "metadata": {},
   "source": [
    "Soal 2 \n",
    "\n",
    "1. lengkapilah code perulangan untuk menampilkan expected result \n",
    "2. Ketentuan \n",
    "    - setiap ingin menampilkan kelipatan 5 ubah menjadi lima\n",
    "    - setiap kelipatan 7 ubah menjadi tujuh'\n",
    "    - jika bertemu 35 dan 70 ubah menjadi tiga lima dan tujuh puluh \n",
    "    - dan jika bertemu 100 ubah menjadi end "
   ]
  },
  {
   "cell_type": "code",
   "execution_count": 2,
   "metadata": {},
   "outputs": [
    {
     "name": "stdout",
     "output_type": "stream",
     "text": [
      "1\n",
      "2\n",
      "3\n",
      "4\n",
      "Lima\n",
      "6\n",
      "Tujuh\n",
      "8\n",
      "9\n",
      "Lima\n",
      "11\n",
      "12\n",
      "13\n",
      "Tujuh\n",
      "Lima\n",
      "16\n",
      "17\n",
      "18\n",
      "19\n",
      "Lima\n",
      "Tujuh\n",
      "22\n",
      "23\n",
      "24\n",
      "Lima\n",
      "26\n",
      "27\n",
      "Tujuh\n",
      "29\n",
      "Lima\n",
      "31\n",
      "32\n",
      "33\n",
      "34\n",
      "Tiga Lima\n",
      "36\n",
      "37\n",
      "38\n",
      "39\n",
      "Lima\n",
      "41\n",
      "Tujuh\n",
      "43\n",
      "44\n",
      "Lima\n",
      "46\n",
      "47\n",
      "48\n",
      "Tujuh\n",
      "Lima\n",
      "51\n",
      "52\n",
      "53\n",
      "54\n",
      "Lima\n",
      "Tujuh\n",
      "57\n",
      "58\n",
      "59\n",
      "Lima\n",
      "61\n",
      "62\n",
      "Tujuh\n",
      "64\n",
      "Lima\n",
      "66\n",
      "67\n",
      "68\n",
      "69\n",
      "Tujuh Puluh\n",
      "71\n",
      "72\n",
      "73\n",
      "74\n",
      "Lima\n",
      "76\n",
      "Tujuh\n",
      "78\n",
      "79\n",
      "Lima\n",
      "81\n",
      "82\n",
      "83\n",
      "Tujuh\n",
      "Lima\n",
      "86\n",
      "87\n",
      "88\n",
      "89\n",
      "Lima\n",
      "Tujuh\n",
      "92\n",
      "93\n",
      "94\n",
      "Lima\n",
      "96\n",
      "97\n",
      "Tujuh\n",
      "99\n",
      "End\n"
     ]
    }
   ],
   "source": [
    "# lengkapi code berikut\n",
    " \n",
    "x = 0\n",
    "while x < 101:\n",
    "  x += 1\n",
    "  if x == 100:\n",
    "    print('End')\n",
    "    break \n",
    "  elif x == 70:\n",
    "    print('Tujuh Puluh')\n",
    "  elif x == 35:\n",
    "    print('Tiga Lima')\n",
    "  elif x%5 == 0:\n",
    "    print('Lima')\n",
    "  elif x%7 == 0:\n",
    "    print('Tujuh') \n",
    "  elif x/x == 1:\n",
    "    print(x)\n"
   ]
  },
  {
   "cell_type": "raw",
   "metadata": {},
   "source": [
    "soal 3 \n",
    "\n",
    "Lengkapilah code untuk menampilkan hasil dari list sesuai dengan expected result yang diharapkan! "
   ]
  },
  {
   "cell_type": "code",
   "execution_count": 3,
   "metadata": {},
   "outputs": [
    {
     "name": "stdout",
     "output_type": "stream",
     "text": [
      "Here is the list in alphabetical order:\n",
      "Aaron\n",
      "Bernice\n",
      "Cody\n",
      "\n",
      "\n",
      "Here is the list in reverse alphabetical order:\n",
      "Cody\n",
      "Bernice\n",
      "Aaron\n",
      "\n",
      "\n",
      "Here is the list in its original order:\n",
      "Bernice\n",
      "Aaron\n",
      "Cody\n"
     ]
    }
   ],
   "source": [
    "# name list\n",
    "name_list = [\"Bernice\", \"Aaron\", \"Cody\"]\n",
    "\n",
    "\n",
    "# lengkapi kode \n",
    "\n",
    "print('Here is the list in alphabetical order:')\n",
    "print(name_list[1])\n",
    "print(name_list[0])\n",
    "print(name_list[2])\n",
    "\n",
    "print('\\n')\n",
    "print('Here is the list in reverse alphabetical order:')\n",
    "print(name_list[2])\n",
    "print(name_list[0])\n",
    "print(name_list[1])\n",
    "\n",
    "print('\\n')\n",
    "print('Here is the list in its original order:')\n",
    "for i in name_list:\n",
    "  print(i)"
   ]
  },
  {
   "cell_type": "raw",
   "metadata": {},
   "source": [
    "\n",
    "soal 4\n",
    "\n",
    "Program Kuota SKS, yaitu program yang dapat menentukan kuota SKS yang\n",
    "diperoleh berdasarkan nilai IPK. Jika IPK besar dari 3.00 kuota SKS 24, jika IPK 2.50 sampai 2.99 kuota SKS 21, jika IPK 2.00 sampai 2.49 kuota SKS 18, jika IPK di bawah 2.00 kuota SKS 15."
   ]
  },
  {
   "cell_type": "code",
   "execution_count": 16,
   "metadata": {},
   "outputs": [
    {
     "name": "stdout",
     "output_type": "stream",
     "text": [
      "Input nilai IPK:2.5\n",
      "Kamu memiliki kuota sebesar 21 SKS\n"
     ]
    }
   ],
   "source": [
    "x = float(input(\"Input nilai IPK:\"))\n",
    "\n",
    "if x >= 3.00 and x <= 4.00:\n",
    "  print(\"Kamu memiliki kuota sebesar 24 SKS\")\n",
    "elif x >= 2.50 and x <= 2.99:\n",
    "  print(\"Kamu memiliki kuota sebesar 21 SKS\")\n",
    "elif x >= 2.00 and x <= 2.49:\n",
    "  print(\"Kamu memiliki kuota sebesar 18 SKS\")\n",
    "elif x < 2.00:\n",
    "  print(\"Kamu memiliki kuota sebesar 15 SKS\")\n",
    "elif x > 4.00:\n",
    "  print(\"IPK maksimal 4 hyung!\")\n"
   ]
  },
  {
   "cell_type": "raw",
   "metadata": {},
   "source": [
    "Soal 5 \n",
    "\n",
    "Kerjakan dengan benar soal dictionary berikut. \n",
    "\n",
    "Dari hasil ouput brand yang ditampilkan adalah ford. tugas anda lakukan perubahan pada brand menjadi \"honda\" dengan menggunakan fungsi ubah atributnya. \n",
    "tidak mengubah nilai secara langsung pada dictionary awal"
   ]
  },
  {
   "cell_type": "code",
   "execution_count": 13,
   "metadata": {},
   "outputs": [
    {
     "name": "stdout",
     "output_type": "stream",
     "text": [
      "list original: {'brand': 'ford', 'model': 'mustang', 'year': 1964}\n",
      "\n",
      "\n",
      "list plagiat: {'brand': 'ford', 'model': 'mustang', 'year': 1964}\n",
      "\n",
      "\n",
      "list no plagiat: {'brand': 'Honda', 'model': 'mustang', 'year': 1964}\n"
     ]
    }
   ],
   "source": [
    "thisdict = {\n",
    "    'brand' : 'ford',\n",
    "    'model'  : 'mustang',\n",
    "    'year'   : 1964\n",
    "}\n",
    "\n",
    "print('list original:', thisdict)\n",
    "print(\"\\n\")\n",
    "\n",
    "newdict = thisdict.copy()\n",
    "print('list plagiat:', thisdict)\n",
    "print(\"\\n\")\n",
    "\n",
    "\n",
    "newdict[\"brand\"] = \"Honda\"\n",
    "print('list no plagiat:', newdict)"
   ]
  },
  {
   "cell_type": "code",
   "execution_count": null,
   "metadata": {},
   "outputs": [],
   "source": []
  }
 ],
 "metadata": {
  "kernelspec": {
   "display_name": "Python 3",
   "language": "python",
   "name": "python3"
  },
  "language_info": {
   "codemirror_mode": {
    "name": "ipython",
    "version": 3
   },
   "file_extension": ".py",
   "mimetype": "text/x-python",
   "name": "python",
   "nbconvert_exporter": "python",
   "pygments_lexer": "ipython3",
   "version": "3.9.0"
  }
 },
 "nbformat": 4,
 "nbformat_minor": 4
}
