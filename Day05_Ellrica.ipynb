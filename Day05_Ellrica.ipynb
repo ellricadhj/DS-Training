{
 "cells": [
  {
   "cell_type": "code",
   "execution_count": 7,
   "metadata": {},
   "outputs": [
    {
     "name": "stdout",
     "output_type": "stream",
     "text": [
      "Stack after pushed: [6, 1, 7]\n",
      "\n",
      "Hasil diharapkan :\n",
      "7\n",
      "1\n",
      "6\n",
      "\n",
      "Stack after poped: []\n"
     ]
    }
   ],
   "source": [
    "stack = []\n",
    "\n",
    "def push(val):\n",
    "\n",
    "    stack.append(val)\n",
    "\n",
    "def pop():\n",
    "    val = stack.pop()\n",
    "    \n",
    "    return val\n",
    "\n",
    "push(6)\n",
    "push(1)\n",
    "push(7)\n",
    "\n",
    "print(\"Stack after pushed:\", stack)\n",
    "\n",
    "print(\"\\nHasil diharapkan :\")\n",
    "print(pop())\n",
    "print(pop())\n",
    "print(pop())\n",
    "\n",
    "print(\"\\nStack after poped:\", stack)"
   ]
  },
  {
   "cell_type": "code",
   "execution_count": 10,
   "metadata": {},
   "outputs": [
    {
     "name": "stdout",
     "output_type": "stream",
     "text": [
      "Hasil Diharapkan\n",
      "45\n",
      "9\n",
      "8\n",
      "7\n",
      "6\n",
      "5\n",
      "4\n",
      "3\n",
      "2\n",
      "1\n",
      "0\n"
     ]
    }
   ],
   "source": [
    "print(\"Hasil Diharapkan\")\n",
    "class Stack:\n",
    "    def __init__(self):\n",
    "        self.__stackList = []\n",
    "\n",
    "    def push(self, val):\n",
    "        self.__stackList.append(val)\n",
    "\n",
    "    def pop(self):\n",
    "        val = self.__stackList[-1]\n",
    "        del self.__stackList[-1]\n",
    "        return val\n",
    "\n",
    "\n",
    "class AddingStack(Stack):\n",
    "    def __init__(self):\n",
    "        Stack.__init__(self)\n",
    "        self.__sum = 0\n",
    "\n",
    "    def getSum(self):\n",
    "        return self.__sum\n",
    "\n",
    "    def push(self, val):\n",
    "        self.__sum += val\n",
    "        Stack.push(self, val)\n",
    "\n",
    "    def pop(self):\n",
    "        val = Stack.pop(self)\n",
    "        self.__sum -= val\n",
    "        return val\n",
    "\n",
    "\n",
    "stackObject = AddingStack()\n",
    "\n",
    "for i in range(10):\n",
    "    stackObject.push(i)\n",
    "print(stackObject.getSum())\n",
    "\n",
    "for i in range(10):\n",
    "    print(stackObject.pop())"
   ]
  },
  {
   "cell_type": "code",
   "execution_count": 11,
   "metadata": {},
   "outputs": [
    {
     "name": "stdout",
     "output_type": "stream",
     "text": [
      "Hasil diharapkan\n",
      "{'awal': 6, 'baru': 8, 'ikut': 0, 'ireal': 3.5, 'integer': 4, 'z': 5}\n",
      "{'awal': 6, 'baru': 8, 'ikut': 1, 'ireal': 3.5, 'integer': 5, 'z': 5}\n"
     ]
    }
   ],
   "source": [
    "print(\"Hasil diharapkan\")\n",
    "class KelasKita:\n",
    "    pass\n",
    "\n",
    "obj = KelasKita()\n",
    "obj.awal = 6\n",
    "obj.baru = 8\n",
    "obj.ikut = 0\n",
    "obj.ireal = 3.5\n",
    "obj.integer = 4\n",
    "obj.z = 5\n",
    "\n",
    "def AyoSemangat(obj):\n",
    "    for name in obj.__dict__.keys():\n",
    "        if name.startswith('i'):\n",
    "            val = getattr(obj, name)\n",
    "            if isinstance(val, int):\n",
    "                setattr(obj, name, val + 1)\n",
    "\n",
    "print(obj.__dict__)\n",
    "AyoSemangat(obj)\n",
    "print(obj.__dict__)"
   ]
  },
  {
   "cell_type": "code",
   "execution_count": 12,
   "metadata": {},
   "outputs": [
    {
     "name": "stdout",
     "output_type": "stream",
     "text": [
      "Hasil diharapkan\n",
      "True\tFalse\tFalse\t\n",
      "True\tTrue\tFalse\t\n",
      "True\tTrue\tTrue\t\n"
     ]
    }
   ],
   "source": [
    "print(\"Hasil diharapkan\")\n",
    "class Putra:\n",
    "    pass\n",
    "\n",
    "class Indonesia(Putra):\n",
    "    pass\n",
    "\n",
    "class Negara(Indonesia):\n",
    "    pass\n",
    "\n",
    "\n",
    "for isi1 in [Putra, Indonesia, Negara]:\n",
    "    for isi2 in [Putra, Indonesia, Negara]:\n",
    "        print(issubclass(isi1, isi2), end=\"\\t\")\n",
    "    print()"
   ]
  },
  {
   "cell_type": "code",
   "execution_count": 13,
   "metadata": {},
   "outputs": [
    {
     "name": "stdout",
     "output_type": "stream",
     "text": [
      "Hasil diharapkan\n",
      "555 155 552\n",
      "222 2221 2222\n",
      "333 3331 3332\n"
     ]
    }
   ],
   "source": [
    "print(\"Hasil diharapkan\")\n",
    "class Tingkat1:\n",
    "    vario1 = 555\n",
    "    def __init__(self):\n",
    "        self.nilai1 = 155\n",
    "    def Happy1(self):\n",
    "        return 552\n",
    "class Tingkat2(Tingkat1):\n",
    "    vario2 = 222\n",
    "    def __init__(self):\n",
    "        super().__init__()\n",
    "        self.nilai2 = 2221\n",
    "    \n",
    "    def Happy2(self):\n",
    "        return 2222\n",
    "class Tingkat3(Tingkat2):\n",
    "    vario3 = 333\n",
    "    def __init__(self):\n",
    "        super().__init__()\n",
    "        self.nilai3 = 3331\n",
    "    def Happy3(self):\n",
    "        return 3332\n",
    "obj = Tingkat3()\n",
    "print(obj.vario1, obj.nilai1, obj.Happy1())\n",
    "print(obj.vario2, obj.nilai2, obj.Happy2())\n",
    "print(obj.vario3, obj.nilai3, obj.Happy3())"
   ]
  },
  {
   "cell_type": "code",
   "execution_count": 14,
   "metadata": {},
   "outputs": [
    {
     "name": "stdout",
     "output_type": "stream",
     "text": [
      "Hasil diharapkan\n",
      "Class iter\n",
      "1\n",
      "1\n",
      "2\n",
      "3\n",
      "5\n",
      "8\n",
      "13\n",
      "21\n",
      "34\n",
      "55\n",
      "89\n"
     ]
    }
   ],
   "source": [
    "print(\"Hasil diharapkan\")\n",
    "class Fib:\n",
    "    def __init__(self, nn):\n",
    "        self.__n = nn\n",
    "        self.__i = 0\n",
    "        self.__p1 = self.__p2 = 1\n",
    "    def __iter__(self):\n",
    "        print(\"Fib iter\")\n",
    "        return self\n",
    "    def __next__(self):\n",
    "        self.__i += 1\n",
    "        if self.__i > self.__n:\n",
    "            raise StopIteration\n",
    "        if self.__i in [1, 2]:\n",
    "            return 1\n",
    "        ret = self.__p1 + self.__p2\n",
    "        self.__p1, self.__p2 = self.__p2, ret\n",
    "        return ret\n",
    "class Class:\n",
    "    def __init__(self, n):\n",
    "        self.__iter = Fib(n)\n",
    "    def __iter__(self):\n",
    "        print(\"Class iter\")\n",
    "        return self.__iter;\n",
    "object = Class(11)\n",
    "for i in object:\n",
    "    print(i)"
   ]
  },
  {
   "cell_type": "code",
   "execution_count": null,
   "metadata": {},
   "outputs": [],
   "source": []
  }
 ],
 "metadata": {
  "kernelspec": {
   "display_name": "Python 3",
   "language": "python",
   "name": "python3"
  },
  "language_info": {
   "codemirror_mode": {
    "name": "ipython",
    "version": 3
   },
   "file_extension": ".py",
   "mimetype": "text/x-python",
   "name": "python",
   "nbconvert_exporter": "python",
   "pygments_lexer": "ipython3",
   "version": "3.9.0"
  }
 },
 "nbformat": 4,
 "nbformat_minor": 4
}
