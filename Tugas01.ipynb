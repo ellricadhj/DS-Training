{
 "cells": [
  {
   "cell_type": "markdown",
   "metadata": {},
   "source": [
    "# Python & Sejarahnya"
   ]
  },
  {
   "cell_type": "raw",
   "metadata": {},
   "source": [
    "Python didirikan oleh Guido Van Rossum. Awalnya diminta sebagai bahasa pemrograman komputer amoeba pada tahun 1989, namun akhirnya terus menerus dikembangkan mulai dari release pertama python 1.0 tahun 1994, mulai dibuat open scource yang bisa diakses di BeOpen.com pada september 2006, lalu muncul versi 2.0 tahun 2000 hingga versi 2.7 pada tahun 2010 menjadi penutup versi 2. Selagi python merilis versi 2, python mulai melakukan redesign pada tahun 2008 agar bisa lebih expandable dan extensible sehingga muncul lah python 3.0. Versi 2.7 akan disupport hingga 2020 saja yang artinya mulai tahun depan, user lama harus meng-upgrade versi python ke versi 3.0 ke atas."
   ]
  },
  {
   "cell_type": "markdown",
   "metadata": {},
   "source": [
    "# Keunggulan Python"
   ]
  },
  {
   "cell_type": "code",
   "execution_count": null,
   "metadata": {},
   "outputs": [],
   "source": [
    "1. Python mudah dimengerti karena penulisannya yang tidak kompleks dibandingkan bahasa lain, juga tidakmemakan banyak baris code\n",
    "2. Python bersifat Open source sehingga bisa diakses dan dipakai oleh siapa saja dengan gratis\n",
    "3. Versatile, python compatible atau bisa digunakan untuk membangun web app, mobile app, dekstop app (multi-platform)\n",
    "4. Banyak digunakan pada bidang2 ilmu hype seperti data science, artificial intelligence, machine learning"
   ]
  },
  {
   "cell_type": "markdown",
   "metadata": {},
   "source": [
    "# Kalkulator"
   ]
  },
  {
   "cell_type": "code",
   "execution_count": 10,
   "metadata": {},
   "outputs": [
    {
     "name": "stdout",
     "output_type": "stream",
     "text": [
      "KALKULATOR SUPER SEDERHANA\n",
      "Operasi yang tersedia:\n",
      "=> Pertambahan\n",
      "=> Pengurangan\n",
      "=> Pengalian\n",
      "=> Pembagian\n",
      "=> True atau False\n",
      "\n",
      "Silakan coba!\n",
      "\n",
      "Masukkan angka pertama = 5\n",
      "Masukan operator = /\n",
      "Masukkan angka kedua = \n",
      "4\n",
      "\n",
      "\n",
      "Hasil pembagian adalah 1.25\n"
     ]
    }
   ],
   "source": [
    "\n",
    "print(\"KALKULATOR SUPER SEDERHANA\")\n",
    "print(\"Operasi yang tersedia:\")\n",
    "print(\"=> Pertambahan\")\n",
    "print(\"=> Pengurangan\")\n",
    "print(\"=> Pengalian\")\n",
    "print(\"=> Pembagian\")      \n",
    "print(\"=> True atau False\\n\")\n",
    "\n",
    "print(\"Silakan coba!\\n\")\n",
    "\n",
    "\n",
    "angka1 = float(input(\"Masukkan angka pertama = \"))\n",
    "op = input(\"Masukan operator = \")\n",
    "angka2 = float(input(\"Masukkan angka kedua = \\n\"))\n",
    "\n",
    "print(\"\\n\")\n",
    "\n",
    "sama = angka1 == angka2\n",
    "tidakSama = angka1 != angka2\n",
    "lebihBesar = angka1 > angka2\n",
    "lebihKecil = angka1 < angka2\n",
    "\n",
    "if op == \"+\":\n",
    "    print(\"Hasil pertambahan adalah\", angka1 + angka2)\n",
    "elif op == \"-\":\n",
    "    print(\"Hasil pengurangan adalah\", angka1 - angka2)\n",
    "elif op == \"*\":\n",
    "    print(\"Hasil pengalian adalah\", angka1 * angka2)\n",
    "elif op == \"/\":\n",
    "    print(\"Hasil pembagian adalah\", angka1 / angka2)\n",
    "elif op == \"==\":\n",
    "    print(\"Jawabannya adalah\", sama)\n",
    "elif op == \"!=\":\n",
    "    print(\"Jawabannya adalah\", tidakSama)\n",
    "elif op == \">\":\n",
    "    print(\"Jawabannya adalah\", lebihBesar)\n",
    "elif op == \"<\":\n",
    "    print(\"Jawabannya adalah\", lebihKecil)\n",
    "else:\n",
    "    print(\"Masukan tidak valid, coba lagi!\")"
   ]
  }
 ],
 "metadata": {
  "kernelspec": {
   "display_name": "Python 3",
   "language": "python",
   "name": "python3"
  },
  "language_info": {
   "codemirror_mode": {
    "name": "ipython",
    "version": 3
   },
   "file_extension": ".py",
   "mimetype": "text/x-python",
   "name": "python",
   "nbconvert_exporter": "python",
   "pygments_lexer": "ipython3",
   "version": "3.9.0"
  }
 },
 "nbformat": 4,
 "nbformat_minor": 4
}
